{
 "cells": [
  {
   "cell_type": "markdown",
   "id": "7d5341a2",
   "metadata": {},
   "source": [
    "Name : BAHATAM AMULYA"
   ]
  },
  {
   "cell_type": "markdown",
   "id": "39240e49",
   "metadata": {},
   "source": [
    "Email : bamulya528@gmail.com"
   ]
  },
  {
   "cell_type": "markdown",
   "id": "1367fa8e",
   "metadata": {},
   "source": [
    "Contact : 6301660314"
   ]
  },
  {
   "cell_type": "markdown",
   "id": "04bbc946",
   "metadata": {},
   "source": [
    "College : G.Pullaiah College Of Engineering And Technology,Kurnool,Andhra Pradesh."
   ]
  },
  {
   "cell_type": "markdown",
   "id": "1dc22ba8",
   "metadata": {},
   "source": [
    "1. A company decided to give bonus of 5% to employee if his/her year of service is \n",
    "   more than 5 years. Ask user for their salary and year of service and print the net \n",
    "   bonus amount"
   ]
  },
  {
   "cell_type": "markdown",
   "id": "aa059fb9",
   "metadata": {},
   "source": [
    "Test case 1:"
   ]
  },
  {
   "cell_type": "code",
   "execution_count": 2,
   "id": "482d7ece",
   "metadata": {},
   "outputs": [
    {
     "name": "stdout",
     "output_type": "stream",
     "text": [
      "4\n",
      "20000\n",
      "0\n"
     ]
    }
   ],
   "source": [
    "service=int(input())\n",
    "salary=int(input())\n",
    "bonus = 5\n",
    "if service > 5:\n",
    "    net_bonus = (bonus/100) * salary\n",
    "else: \n",
    "    net_bonus = 0\n",
    "print(net_bonus)"
   ]
  },
  {
   "cell_type": "markdown",
   "id": "171f0eac",
   "metadata": {},
   "source": [
    "Test case 2:"
   ]
  },
  {
   "cell_type": "code",
   "execution_count": 3,
   "id": "028f8d8e",
   "metadata": {},
   "outputs": [
    {
     "name": "stdout",
     "output_type": "stream",
     "text": [
      "6\n",
      "20000\n",
      "1000.0\n"
     ]
    }
   ],
   "source": [
    "service=int(input())\n",
    "salary=int(input())\n",
    "bonus = 5\n",
    "if service > 5:\n",
    "    net_bonus = (bonus/100) * salary\n",
    "else: \n",
    "    net_bonus = 0\n",
    "print(net_bonus)"
   ]
  },
  {
   "cell_type": "markdown",
   "id": "569ca7b0",
   "metadata": {},
   "source": [
    "2. A school has following rules for grading system:\n",
    "   a. Below 25 - F\n",
    "   b. 25 to 45 - E\n",
    "   c. 45 to 50 - D\n",
    "   d. 50 to 60 - C\n",
    "   e. 60 to 80 - B\n",
    "   f. Above 80 - A\n",
    "   Ask user to enter marks and print the corresponding grade"
   ]
  },
  {
   "cell_type": "code",
   "execution_count": 4,
   "id": "b863bfc3",
   "metadata": {},
   "outputs": [
    {
     "name": "stdout",
     "output_type": "stream",
     "text": [
      "enter marks: 77\n",
      "B\n"
     ]
    }
   ],
   "source": [
    "marks = int(input(\"enter marks: \"))\n",
    "if marks < 25:\n",
    "    print(\"F\")\n",
    "elif marks >= 25 and marks <= 45 :\n",
    "    print(\"E\")\n",
    "elif marks >= 45 and marks <= 50 :\n",
    "    print(\"D\")\n",
    "elif marks >= 50 and marks <= 60 :\n",
    "    print(\"C\")\n",
    "elif marks >= 60 and marks <= 80 :\n",
    "    print(\"B\")\n",
    "else:\n",
    "    print(\"A\")\n",
    "\n"
   ]
  },
  {
   "cell_type": "markdown",
   "id": "9b8774af",
   "metadata": {},
   "source": [
    "3. A student will not be allowed to sit in exam if his/her attendence is less than 75%.\n",
    "   Take following input from user\n",
    "   Number of classes held\n",
    "   Number of classes attended.\n",
    "   And print percentage of class attended \n",
    "   Is student is allowed to sit in exam or not."
   ]
  },
  {
   "cell_type": "code",
   "execution_count": 5,
   "id": "15f003c1",
   "metadata": {},
   "outputs": [
    {
     "name": "stdout",
     "output_type": "stream",
     "text": [
      "enter no.of classes held : 70\n",
      "enter no.of classes attended : 35\n",
      "50.0\n",
      "He/she is not allowed to sit in exam\n"
     ]
    }
   ],
   "source": [
    "classes_held=int(input(\"enter no.of classes held : \"))\n",
    "classes_attended=int(input(\"enter no.of classes attended : \"))\n",
    "attendence = (classes_attended/classes_held) * 100\n",
    "print(attendence)\n",
    "if attendence < 75:\n",
    "    print(\"He/she is not allowed to sit in exam\")\n",
    "else:\n",
    "    print(\"He/she is allowed to sit in exam\")"
   ]
  },
  {
   "cell_type": "markdown",
   "id": "2b366564",
   "metadata": {},
   "source": [
    "4. Ask user to enter age, sex ( M or F ), marital status ( Y or N ) and then using \n",
    "   following rules print their place of service.\n",
    "   if employee is female, then she will work only in urban areas.\n",
    "   if employee is a male and age is in between 20 to 40 then he may work in anywhere\n",
    "   if employee is male and age is in between 40 t0 60 then he will work in urban areas only.\n",
    "   And any other input of age should print \"ERROR\""
   ]
  },
  {
   "cell_type": "code",
   "execution_count": 6,
   "id": "5ba99013",
   "metadata": {},
   "outputs": [
    {
     "name": "stdout",
     "output_type": "stream",
     "text": [
      "enter age:20\n",
      "enter sex: M or FM\n",
      "enter marital status:Y or NN\n",
      "he may work in anywhere\n"
     ]
    }
   ],
   "source": [
    "age=int(input(\"enter age:\"))\n",
    "sex=input(\"enter sex: M or F\")\n",
    "marital_status=input(\"enter marital status:Y or N\")\n",
    "if sex == \"F\" :\n",
    "    print(\"she will work only in urban areas\")\n",
    "elif sex == \"M\":\n",
    "    if age >=20 and age<=40 :\n",
    "        print(\"he may work in anywhere\")\n",
    "    if age >=40 and age <=60 :\n",
    "        print(\"he will work in urban areas only\")\n",
    "else:\n",
    "    print(\"ERROR\")"
   ]
  },
  {
   "cell_type": "markdown",
   "id": "0f9db90c",
   "metadata": {},
   "source": [
    "5. Take 10 integers from keyboard using loop and print their average value on the \n",
    "   screen."
   ]
  },
  {
   "cell_type": "code",
   "execution_count": 7,
   "id": "f90dca74",
   "metadata": {},
   "outputs": [
    {
     "name": "stdout",
     "output_type": "stream",
     "text": [
      "1\n",
      "2\n",
      "3\n",
      "4\n",
      "5\n",
      "6\n",
      "7\n",
      "8\n",
      "9\n",
      "10\n",
      "average value: 5.5\n"
     ]
    }
   ],
   "source": [
    "n=10\n",
    "sum=0\n",
    "for i in range(n):\n",
    "    a=int(input())\n",
    "    sum+=a\n",
    "average = sum/n\n",
    "print(\"average value:\",average)"
   ]
  },
  {
   "cell_type": "markdown",
   "id": "d4897cf5",
   "metadata": {},
   "source": [
    "6. Write a program to calculate factorial of a number.\n"
   ]
  },
  {
   "cell_type": "code",
   "execution_count": 10,
   "id": "03971214",
   "metadata": {},
   "outputs": [
    {
     "name": "stdout",
     "output_type": "stream",
     "text": [
      "7\n",
      "5040\n"
     ]
    }
   ],
   "source": [
    "n=int(input())\n",
    "fact=1\n",
    "for i in range(1,n+1):\n",
    "    fact *= i\n",
    "print(fact)\n"
   ]
  },
  {
   "cell_type": "markdown",
   "id": "9ddce76c",
   "metadata": {},
   "source": [
    "7. Take integer inputs from user until he/she presses q ( Ask to press q to quit after \n",
    "   every integer input ). Print average and product of all numbers.\n"
   ]
  },
  {
   "cell_type": "code",
   "execution_count": 11,
   "id": "5bd75f55",
   "metadata": {},
   "outputs": [
    {
     "name": "stdout",
     "output_type": "stream",
     "text": [
      "enter a number : 5\n",
      "7\n",
      "enter a number : 8\n",
      "9\n",
      "enter a number : q\n",
      "Average :  8.0\n",
      "Product :  63\n"
     ]
    }
   ],
   "source": [
    "count=0\n",
    "sum=0\n",
    "prod=1\n",
    "while True:\n",
    "    n=input('enter a number : ')\n",
    "    if n == 'q':\n",
    "        break\n",
    "    n=int(input())\n",
    "    sum += n\n",
    "    prod *= n\n",
    "    count+=1\n",
    "print(\"Average : \",sum/count)\n",
    "print(\"Product : \",prod)"
   ]
  },
  {
   "cell_type": "markdown",
   "id": "5c7cf865",
   "metadata": {},
   "source": [
    "8. A three digit number is called Armstrong number if sum of cube of its digit is equal to \n",
    "   number itself.\n",
    "   E.g.- 153 is an Armstrong number because (13)+(53)+(33) = 153.\n",
    "   Write all Armstrong numbers between 100 to 500."
   ]
  },
  {
   "cell_type": "code",
   "execution_count": 12,
   "id": "2c0230aa",
   "metadata": {},
   "outputs": [
    {
     "name": "stdout",
     "output_type": "stream",
     "text": [
      "enter lower range : 100\n",
      "enter upper range : 500\n",
      "153\n",
      "370\n",
      "371\n",
      "407\n"
     ]
    }
   ],
   "source": [
    "a=int(input(\"enter lower range : \"))  \n",
    "b=int(input(\"enter upper range : \"))  \n",
    "for i in range(a,b+1):\n",
    "    temp = i\n",
    "    sum=0\n",
    "    order = len(str(i))\n",
    "    while temp>0:\n",
    "        dig = temp%10\n",
    "        sum += dig ** order\n",
    "        temp //= 10\n",
    "    if i == sum:\n",
    "        print(i)\n"
   ]
  },
  {
   "cell_type": "markdown",
   "id": "13716684",
   "metadata": {},
   "source": [
    "9. Write a program to find the length of the string \"refrigerator\" without \n",
    "   using len function."
   ]
  },
  {
   "cell_type": "code",
   "execution_count": 1,
   "id": "144c44fe",
   "metadata": {},
   "outputs": [
    {
     "name": "stdout",
     "output_type": "stream",
     "text": [
      "12\n"
     ]
    }
   ],
   "source": [
    "s=\"refrigerator\"\n",
    "count=0\n",
    "for i in s:\n",
    "    count+=1\n",
    "print(count)"
   ]
  },
  {
   "cell_type": "markdown",
   "id": "897938e9",
   "metadata": {},
   "source": [
    "10. Write a program that takes your full name as input and displays the abbreviations of \n",
    "    the first and middle names except the last name which is displayed as it is. For \n",
    "    example, if your name is Robert Brett Roser, then the output should be R.B.Roser"
   ]
  },
  {
   "cell_type": "code",
   "execution_count": 2,
   "id": "c277b2cb",
   "metadata": {},
   "outputs": [
    {
     "name": "stdout",
     "output_type": "stream",
     "text": [
      "Bahatam Amulya\n",
      "B.Amulya.\n"
     ]
    }
   ],
   "source": [
    "s=input()\n",
    "l=s.split()\n",
    "print(l[0][0]+'.'+l[1]+'.')"
   ]
  }
 ],
 "metadata": {
  "kernelspec": {
   "display_name": "Python 3",
   "language": "python",
   "name": "python3"
  },
  "language_info": {
   "codemirror_mode": {
    "name": "ipython",
    "version": 3
   },
   "file_extension": ".py",
   "mimetype": "text/x-python",
   "name": "python",
   "nbconvert_exporter": "python",
   "pygments_lexer": "ipython3",
   "version": "3.8.8"
  }
 },
 "nbformat": 4,
 "nbformat_minor": 5
}
